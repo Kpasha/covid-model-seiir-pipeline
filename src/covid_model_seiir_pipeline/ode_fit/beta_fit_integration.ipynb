{
 "cells": [
  {
   "cell_type": "code",
   "execution_count": null,
   "metadata": {},
   "outputs": [],
   "source": [
    "from pathlib import Path\n",
    "\n",
    "import pandas as pd"
   ]
  },
  {
   "cell_type": "code",
   "execution_count": null,
   "metadata": {},
   "outputs": [],
   "source": [
    "old_root = Path('/ihme/covid-19/seir-pipeline-outputs/regression/2020_06_30.integration_test_2')\n",
    "new_root = Path('/ihme/covid-19/seir-fit/2020_06_30.01')\n",
    "old_betas_path = old_root / 'betas'\n",
    "new_betas_path = new_root / 'betas'\n",
    "old_params_path = old_root / 'parameters'\n",
    "new_params_path = new_root / 'parameters'"
   ]
  },
  {
   "cell_type": "code",
   "execution_count": null,
   "metadata": {},
   "outputs": [],
   "source": [
    "def load_loc_draw_files(root: Path) -> pd.DataFrame:\n",
    "    data = []\n",
    "    for loc_dir in root.iterdir():\n",
    "        data.append(load_draw_files(loc_dir))\n",
    "    return pd.concat(data)\n",
    "\n",
    "def load_draw_files(root: Path):\n",
    "    data = []\n",
    "    for draw_file in root.iterdir():\n",
    "        df = pd.read_csv(draw_file)\n",
    "        df['draw'] = int(draw_file.stem.split('_')[-1])\n",
    "        data.append(df)\n",
    "    return pd.concat(data)"
   ]
  },
  {
   "cell_type": "code",
   "execution_count": null,
   "metadata": {},
   "outputs": [],
   "source": [
    "%%time\n",
    "old_betas = load_loc_draw_files(old_betas_path).drop(columns='location_id').rename(columns={'loc_id': 'location_id'}).sort_values(['location_id', 'draw', 'date']).reset_index(drop=True)\n",
    "new_betas = load_draw_files(new_betas_path).sort_values(['location_id', 'draw', 'date']).reset_index(drop=True)\n",
    "\n",
    "# The old betas have covariates attached.\n",
    "old_betas = old_betas.loc[:, new_betas.columns]\n",
    "\n",
    "print('Equality test:', old_betas.equals(new_betas))"
   ]
  },
  {
   "cell_type": "code",
   "execution_count": null,
   "metadata": {},
   "outputs": [],
   "source": [
    "%%time\n",
    "old_params = load_draw_files(old_params_path).sort_values(['draw', 'params']).reset_index(drop=True)\n",
    "new_params = load_draw_files(new_params_path).sort_values(['draw', 'params']).reset_index(drop=True)\n",
    "\n",
    "print('Equality test:', old_params.equals(new_params))"
   ]
  },
  {
   "cell_type": "code",
   "execution_count": null,
   "metadata": {},
   "outputs": [],
   "source": [
    "old_params"
   ]
  },
  {
   "cell_type": "code",
   "execution_count": null,
   "metadata": {},
   "outputs": [],
   "source": [
    "new_betas.tail()"
   ]
  },
  {
   "cell_type": "code",
   "execution_count": null,
   "metadata": {},
   "outputs": [],
   "source": [
    "new_params"
   ]
  },
  {
   "cell_type": "code",
   "execution_count": null,
   "metadata": {},
   "outputs": [],
   "source": []
  }
 ],
 "metadata": {
  "kernelspec": {
   "display_name": "Python 3",
   "language": "python",
   "name": "python3"
  },
  "language_info": {
   "codemirror_mode": {
    "name": "ipython",
    "version": 3
   },
   "file_extension": ".py",
   "mimetype": "text/x-python",
   "name": "python",
   "nbconvert_exporter": "python",
   "pygments_lexer": "ipython3",
   "version": "3.7.6"
  }
 },
 "nbformat": 4,
 "nbformat_minor": 4
}
