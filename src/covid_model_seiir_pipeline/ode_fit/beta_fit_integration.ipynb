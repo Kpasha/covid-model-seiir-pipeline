{
 "cells": [
  {
   "cell_type": "code",
   "execution_count": 1,
   "metadata": {},
   "outputs": [],
   "source": [
    "from pathlib import Path\n",
    "\n",
    "import pandas as pd"
   ]
  },
  {
   "cell_type": "code",
   "execution_count": 6,
   "metadata": {},
   "outputs": [],
   "source": [
    "old_root = Path('/ihme/covid-19/seir-pipeline-outputs/regression/2020_06_01.integration_test2')\n",
    "new_root = Path('/ihme/covid-19/seir-fit/2020_06_01.02')\n",
    "old_betas_path = old_root / 'betas'\n",
    "new_betas_path = new_root / 'betas'\n",
    "old_params_path = old_root / 'parameters'\n",
    "new_params_path = new_root / 'parameters'"
   ]
  },
  {
   "cell_type": "code",
   "execution_count": 7,
   "metadata": {},
   "outputs": [],
   "source": [
    "def load_loc_draw_files(root: Path) -> pd.DataFrame:\n",
    "    data = []\n",
    "    for loc_dir in root.iterdir():\n",
    "        data.append(load_draw_files(loc_dir))\n",
    "    return pd.concat(data)\n",
    "\n",
    "def load_draw_files(root: Path):\n",
    "    data = []\n",
    "    for draw_file in root.iterdir():\n",
    "        df = pd.read_csv(draw_file)\n",
    "        df['draw'] = int(draw_file.stem.split('_')[-1])\n",
    "        data.append(df)\n",
    "    return pd.concat(data)"
   ]
  },
  {
   "cell_type": "code",
   "execution_count": 8,
   "metadata": {},
   "outputs": [
    {
     "name": "stdout",
     "output_type": "stream",
     "text": [
      "Equality test: True\n",
      "CPU times: user 7.07 s, sys: 5.25 s, total: 12.3 s\n",
      "Wall time: 14.4 s\n"
     ]
    }
   ],
   "source": [
    "%%time\n",
    "old_betas = load_loc_draw_files(old_betas_path)\n",
    "new_betas = load_loc_draw_files(new_betas_path)\n",
    "\n",
    "# The old betas have covariates attached.\n",
    "old_betas = old_betas.loc[:, new_betas.columns]\n",
    "\n",
    "print('Equality test:', old_betas.equals(new_betas))"
   ]
  },
  {
   "cell_type": "code",
   "execution_count": 9,
   "metadata": {},
   "outputs": [
    {
     "name": "stdout",
     "output_type": "stream",
     "text": [
      "Equality test: True\n",
      "CPU times: user 35.5 ms, sys: 68.2 ms, total: 104 ms\n",
      "Wall time: 119 ms\n"
     ]
    }
   ],
   "source": [
    "%%time\n",
    "old_params = load_draw_files(old_params_path)\n",
    "new_params = load_draw_files(new_params_path)\n",
    "\n",
    "print('Equality test:', old_params.equals(new_params))"
   ]
  },
  {
   "cell_type": "code",
   "execution_count": null,
   "metadata": {},
   "outputs": [],
   "source": []
  }
 ],
 "metadata": {
  "kernelspec": {
   "display_name": "Python 3",
   "language": "python",
   "name": "python3"
  },
  "language_info": {
   "codemirror_mode": {
    "name": "ipython",
    "version": 3
   },
   "file_extension": ".py",
   "mimetype": "text/x-python",
   "name": "python",
   "nbconvert_exporter": "python",
   "pygments_lexer": "ipython3",
   "version": "3.7.6"
  }
 },
 "nbformat": 4,
 "nbformat_minor": 4
}
