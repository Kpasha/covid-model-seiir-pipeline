{
 "cells": [
  {
   "cell_type": "code",
   "execution_count": null,
   "metadata": {},
   "outputs": [],
   "source": [
    "%matplotlib inline\n",
    "from pathlib import Path\n",
    "import pandas as pd\n",
    "import numpy as np\n",
    "import matplotlib.pyplot as plt"
   ]
  },
  {
   "cell_type": "code",
   "execution_count": null,
   "metadata": {},
   "outputs": [],
   "source": [
    "old_root = Path('/ihme/covid-19/seir-pipeline-outputs/regression/2020_06_30.integration_test_2')\n",
    "new_root = Path('/ihme/covid-19/seir-regression/latest/')\n",
    "old_betas_path = old_root / 'betas'\n",
    "new_betas_path = new_root / 'betas'\n",
    "old_coef_path = old_root / 'coefficients'\n",
    "new_coef_path = new_root / 'coefficients'"
   ]
  },
  {
   "cell_type": "code",
   "execution_count": null,
   "metadata": {},
   "outputs": [],
   "source": [
    "def load_loc_draw_files(root: Path) -> pd.DataFrame:\n",
    "    data = []\n",
    "    for loc_dir in root.iterdir():\n",
    "        data.append(load_draw_files(loc_dir))\n",
    "    return pd.concat(data)\n",
    "\n",
    "def load_draw_files(root: Path):\n",
    "    data = []\n",
    "    for draw_file in root.iterdir():\n",
    "        df = pd.read_csv(draw_file)\n",
    "        df['draw'] = int(draw_file.stem.split('_')[-1])\n",
    "        data.append(df)\n",
    "    return pd.concat(data)"
   ]
  },
  {
   "cell_type": "code",
   "execution_count": null,
   "metadata": {},
   "outputs": [],
   "source": [
    "old_betas = load_loc_draw_files(old_betas_path).drop(columns='location_id').rename(columns={'loc_id': 'location_id', 'testing_reference': 'testing'}).sort_values(['location_id', 'draw', 'date']).reset_index(drop=True)\n",
    "new_betas = load_draw_files(new_betas_path).sort_values(['location_id', 'draw', 'date']).reset_index(drop=True)"
   ]
  },
  {
   "cell_type": "code",
   "execution_count": null,
   "metadata": {},
   "outputs": [],
   "source": [
    "# Regress is more complicated, this won't work\n",
    "old_betas.equals(new_betas)"
   ]
  },
  {
   "cell_type": "code",
   "execution_count": null,
   "metadata": {},
   "outputs": [],
   "source": [
    "# Look systematically\n",
    "for col in old_betas.columns:\n",
    "    if isinstance(old_betas[col][0], str):\n",
    "        print(col, ': ', old_betas[col].equals(new_betas[col]))\n",
    "    else:\n",
    "        print(col, ': ', np.allclose(old_betas[col], new_betas[col], equal_nan=True))"
   ]
  },
  {
   "cell_type": "code",
   "execution_count": null,
   "metadata": {},
   "outputs": [],
   "source": [
    "# Beta pred is a bit weird.  How bad are the errors\n",
    "plt.hist((old_betas['beta_pred'] - new_betas['beta_pred'])/old_betas['beta_pred'], bins=1000)\n",
    "#plt.plot(old_betas['beta_pred'])\n",
    "plt.xlim([-.003, .003])\n",
    "plt.show()"
   ]
  },
  {
   "cell_type": "code",
   "execution_count": null,
   "metadata": {},
   "outputs": [],
   "source": [
    "# Errors are unbiased, which is good.  Check out the tails\n",
    "(np.abs(old_betas['beta_pred'] - new_betas['beta_pred'])/old_betas['beta_pred']).describe()"
   ]
  },
  {
   "cell_type": "code",
   "execution_count": null,
   "metadata": {},
   "outputs": [],
   "source": [
    "# We can live with a max 3% error if it is almost always closer to 0.03%"
   ]
  },
  {
   "cell_type": "code",
   "execution_count": null,
   "metadata": {},
   "outputs": [],
   "source": [
    "# Let's see if some of this change is explicable\n",
    "old_coef = load_draw_files(old_coef_path).drop(columns='Unnamed: 0').rename(columns={'testing_reference': 'testing'}).sort_values(['group_id', 'draw'])\n",
    "new_coef = load_draw_files(new_coef_path).sort_values(['group_id', 'draw'])"
   ]
  },
  {
   "cell_type": "code",
   "execution_count": null,
   "metadata": {
    "scrolled": false
   },
   "outputs": [],
   "source": [
    "# Old covariate vs new covariate. Dots on the line is good\n",
    "fig, ax = plt.subplots(nrows = len(new_coef.columns), figsize=(5, 25))\n",
    "for i, col in enumerate(new_coef.columns):\n",
    "    ax[i].plot(old_coef[col], old_coef[col])\n",
    "    ax[i].scatter(new_coef[col], old_coef[col])\n",
    "    ax[i].set_title(col)\n",
    "fig.tight_layout()\n",
    "plt.show()"
   ]
  },
  {
   "cell_type": "code",
   "execution_count": null,
   "metadata": {},
   "outputs": [],
   "source": [
    "# Discrepancy is all in the non-time varying covariates, which \n",
    "# coincidentally are also very small. All looks feasible to me."
   ]
  },
  {
   "cell_type": "code",
   "execution_count": null,
   "metadata": {},
   "outputs": [],
   "source": []
  }
 ],
 "metadata": {
  "kernelspec": {
   "display_name": "Python 3",
   "language": "python",
   "name": "python3"
  },
  "language_info": {
   "codemirror_mode": {
    "name": "ipython",
    "version": 3
   },
   "file_extension": ".py",
   "mimetype": "text/x-python",
   "name": "python",
   "nbconvert_exporter": "python",
   "pygments_lexer": "ipython3",
   "version": "3.7.6"
  }
 },
 "nbformat": 4,
 "nbformat_minor": 4
}
